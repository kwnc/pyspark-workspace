{
 "cells": [
  {
   "cell_type": "code",
   "execution_count": null,
   "metadata": {
    "collapsed": true
   },
   "outputs": [],
   "source": [
    "from pyspark import SparkConf, SparkContext\n",
    "\n",
    "# conf = SparkConf().setMaster(\"local\").setAppName(\"LifeExpectancy\")\n",
    "# sc = SparkContext(conf = conf)"
   ]
  },
  {
   "cell_type": "markdown",
   "source": [
    "### Wczytanie danych"
   ],
   "metadata": {
    "collapsed": false
   }
  },
  {
   "cell_type": "code",
   "execution_count": null,
   "outputs": [],
   "source": [
    "lines = sc.textFile(\"life-expectancy.csv\")\n",
    "lines.first()"
   ],
   "metadata": {
    "collapsed": false,
    "pycharm": {
     "name": "#%%\n"
    }
   }
  },
  {
   "cell_type": "markdown",
   "source": [
    "### Metoda przetwarzająca linie"
   ],
   "metadata": {
    "collapsed": false
   }
  },
  {
   "cell_type": "code",
   "execution_count": null,
   "outputs": [],
   "source": [
    "def parse_line(line):\n",
    "    fields = line.split(',')\n",
    "    entity = fields[0]\n",
    "    life_expect = int(float(fields[3]))\n",
    "    return (entity, life_expect)"
   ],
   "metadata": {
    "collapsed": false,
    "pycharm": {
     "name": "#%%\n"
    }
   }
  },
  {
   "cell_type": "markdown",
   "source": [
    "### Kraje z nadłuższym wskaźnikiem długości życia"
   ],
   "metadata": {
    "collapsed": false
   }
  },
  {
   "cell_type": "code",
   "execution_count": null,
   "outputs": [],
   "source": [
    "parsed_lines = lines.map(parse_line)\n",
    "life_expectancy = parsed_lines.map(lambda x: (x[0], x[1]))\n",
    "max_life = life_expectancy.reduceByKey(lambda x, y: max(x,y))\n",
    "results = max_life.collect();\n",
    "\n",
    "for result in results:\n",
    "    print(result[0] + \" - \" + str(result[1]) + \" lat\")"
   ],
   "metadata": {
    "collapsed": false,
    "pycharm": {
     "name": "#%%\n"
    }
   }
  },
  {
   "cell_type": "markdown",
   "source": [
    "### Sortowanie wyników"
   ],
   "metadata": {
    "collapsed": false,
    "pycharm": {
     "name": "#%% md\n"
    }
   }
  },
  {
   "cell_type": "code",
   "execution_count": null,
   "outputs": [],
   "source": [
    "flipped = max_life.map(lambda x: (x[1], x[0]))\n",
    "\n",
    "max_life_sorted = flipped.sortByKey()\n",
    "\n",
    "results = max_life_sorted.collect();\n",
    "for result in results:\n",
    "    print(result[1] + \" - \" + str(result[0]) + \" lat\")"
   ],
   "metadata": {
    "collapsed": false,
    "pycharm": {
     "name": "#%%\n"
    }
   }
  }
 ],
 "metadata": {
  "kernelspec": {
   "display_name": "Python 3",
   "language": "python",
   "name": "python3"
  },
  "language_info": {
   "codemirror_mode": {
    "name": "ipython",
    "version": 2
   },
   "file_extension": ".py",
   "mimetype": "text/x-python",
   "name": "python",
   "nbconvert_exporter": "python",
   "pygments_lexer": "ipython2",
   "version": "2.7.6"
  }
 },
 "nbformat": 4,
 "nbformat_minor": 0
}