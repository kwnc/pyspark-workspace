{
 "cells": [
  {
   "cell_type": "markdown",
   "source": [
    "# Spark SQL\n",
    "Utowrzenie SparkSession"
   ],
   "metadata": {
    "collapsed": false
   }
  },
  {
   "cell_type": "code",
   "execution_count": null,
   "outputs": [],
   "source": [
    "from pyspark.sql import SparkSession\n",
    "from pyspark.sql import Row\n",
    "from pyspark.sql import functions as func\n",
    "\n",
    "spark = SparkSession.builder.appName(\"SparkSQL\").master(\"local[*]\").getOrCreate()"
   ],
   "metadata": {
    "collapsed": false,
    "pycharm": {
     "name": "#%%\n"
    }
   }
  },
  {
   "cell_type": "markdown",
   "source": [
    "### Metoda przetwarzająca linijki zbioru danych do ustrukturyzowanych danych SQL"
   ],
   "metadata": {
    "collapsed": false
   }
  },
  {
   "cell_type": "code",
   "execution_count": null,
   "outputs": [],
   "source": [
    "def to_structured_table(line):\n",
    "    fields = line.split(',')\n",
    "    return Row(entity=str(fields[0]), code=str(fields[1]), year=int(fields[2]), life_expectancy=float(fields[3]))"
   ],
   "metadata": {
    "collapsed": false,
    "pycharm": {
     "name": "#%%\n"
    }
   }
  },
  {
   "cell_type": "markdown",
   "source": [
    "### Wnioskowanie schematu i utworzenie tabeli Dataframe"
   ],
   "metadata": {
    "collapsed": false
   }
  },
  {
   "cell_type": "code",
   "execution_count": null,
   "outputs": [],
   "source": [
    "lines = spark.sparkContext.textFile(\"life-expectancy.csv\")\n",
    "life_expectancies = lines.map(to_structured_table)\n",
    "\n",
    "df = spark.createDataFrame(life_expectancies).cache()\n",
    "df.createOrReplaceTempView(\"life_expectancies\")"
   ],
   "metadata": {
    "collapsed": false,
    "pycharm": {
     "name": "#%%\n"
    }
   }
  },
  {
   "cell_type": "markdown",
   "source": [
    "### Użycie zapytania SQL\n",
    "Zapytania SQL mogą być uruchamiane na tabelach DataFrames."
   ],
   "metadata": {
    "collapsed": false
   }
  },
  {
   "cell_type": "code",
   "execution_count": null,
   "outputs": [],
   "source": [
    "life_exp_90 = spark.sql(\"SELECT * FROM life_expectancies WHERE year >= 1950 AND year <= 1960 AND entity = 'Poland'\")"
   ],
   "metadata": {
    "collapsed": false,
    "pycharm": {
     "name": "#%%\n"
    }
   }
  },
  {
   "cell_type": "markdown",
   "source": [
    "Zapytania SQL są wyższą abstrakcją zapytań RDD. SQL wspierają również normalne operacje RDD"
   ],
   "metadata": {
    "collapsed": false
   }
  },
  {
   "cell_type": "code",
   "execution_count": null,
   "outputs": [],
   "source": [
    "for life_exp in life_exp_90.collect():\n",
    "  print(life_exp)"
   ],
   "metadata": {
    "collapsed": false,
    "pycharm": {
     "name": "#%%\n"
    }
   }
  },
  {
   "cell_type": "markdown",
   "source": [
    "# DataFrames\n",
    "### Analiza danych\n",
    "Wyświetlenie tabeli"
   ],
   "metadata": {
    "collapsed": false
   }
  },
  {
   "cell_type": "code",
   "execution_count": null,
   "outputs": [],
   "source": [
    "df.select(\"entity\", \"code\", \"year\", \"life_expectancy\").show()"
   ],
   "metadata": {
    "collapsed": false,
    "pycharm": {
     "name": "#%%\n"
    }
   }
  },
  {
   "cell_type": "markdown",
   "source": [
    "Przefiltrowanie najlepszych wskaźników długości życia"
   ],
   "metadata": {
    "collapsed": false
   }
  },
  {
   "cell_type": "code",
   "execution_count": null,
   "outputs": [],
   "source": [
    "df.filter(df.life_expectancy > 84).show()"
   ],
   "metadata": {
    "collapsed": false,
    "pycharm": {
     "name": "#%%\n"
    }
   }
  },
  {
   "cell_type": "code",
   "execution_count": null,
   "outputs": [],
   "source": [
    "df.groupBy(\"entity\").max(\"life_expectancy\").sort(\"entity\").show()"
   ],
   "metadata": {
    "collapsed": false,
    "pycharm": {
     "name": "#%%\n"
    }
   }
  },
  {
   "cell_type": "code",
   "execution_count": null,
   "outputs": [],
   "source": [
    "max_life_df = df.groupBy(\"Entity\").agg(func.round(func.max(\"life_expectancy\"), 2)\n",
    "                         .alias(\"max_life_expectancy\")).sort(\"Entity\")\n",
    "max_life_df.filter(max_life_df.max_life_expectancy > 83).show()"
   ],
   "metadata": {
    "collapsed": false,
    "pycharm": {
     "name": "#%%\n"
    }
   }
  }
 ],
 "metadata": {
  "kernelspec": {
   "display_name": "Python 3",
   "language": "python",
   "name": "python3"
  },
  "language_info": {
   "codemirror_mode": {
    "name": "ipython",
    "version": 2
   },
   "file_extension": ".py",
   "mimetype": "text/x-python",
   "name": "python",
   "nbconvert_exporter": "python",
   "pygments_lexer": "ipython2",
   "version": "2.7.6"
  }
 },
 "nbformat": 4,
 "nbformat_minor": 0
}